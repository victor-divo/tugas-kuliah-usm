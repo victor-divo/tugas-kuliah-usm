{
  "nbformat": 4,
  "nbformat_minor": 0,
  "metadata": {
    "colab": {
      "provenance": []
    },
    "kernelspec": {
      "name": "python3",
      "display_name": "Python 3"
    },
    "language_info": {
      "name": "python"
    }
  },
  "cells": [
    {
      "cell_type": "code",
      "execution_count": null,
      "metadata": {
        "colab": {
          "base_uri": "https://localhost:8080/"
        },
        "id": "RqWfpaR-T-Yw",
        "outputId": "7123f1a0-b7b4-441b-bc9a-713297133b13"
      },
      "outputs": [
        {
          "output_type": "stream",
          "name": "stdout",
          "text": [
            "masukkan nilai: 24\n",
            "anda mendapat predikat E\n"
          ]
        }
      ],
      "source": [
        "nilai = int(input('masukkan nilai: '))\n",
        "\n",
        "if nilai >= 85:\n",
        "  huruf = \"A\"\n",
        "elif nilai >= 75:\n",
        "  huruf = \"B\"\n",
        "elif nilai >= 65:\n",
        "  huruf = \"C\"\n",
        "elif nilai >= 55:\n",
        "  huruf = \"D\"\n",
        "else:\n",
        "  huruf = \"E\"\n",
        "\n",
        "print(\"anda mendapat predikat\", huruf)"
      ]
    },
    {
      "cell_type": "code",
      "source": [
        "for i in range(3):\n",
        "  print(f'Data ke-{i+1}')\n",
        "\n",
        "print(\"Data lengkap! Selesai\")"
      ],
      "metadata": {
        "colab": {
          "base_uri": "https://localhost:8080/"
        },
        "id": "UASQI2a9VHdp",
        "outputId": "68a2193f-7b60-4964-9397-8d1adfa45ec7"
      },
      "execution_count": null,
      "outputs": [
        {
          "output_type": "stream",
          "name": "stdout",
          "text": [
            "Data ke-1\n",
            "Data ke-2\n",
            "Data ke-3\n",
            "Data lengkap! Selesai\n"
          ]
        }
      ]
    },
    {
      "cell_type": "code",
      "source": [
        "dataset = ['x', 'y', 'z']\n",
        "for data in dataset:\n",
        "  print(f'Data ke-{data}')\n",
        "\n",
        "print(\"Data lengkap! Selesai\")"
      ],
      "metadata": {
        "colab": {
          "base_uri": "https://localhost:8080/"
        },
        "id": "19kb_f8NYJ1U",
        "outputId": "c2be4e6f-feb4-4133-ad51-53d386642a7c"
      },
      "execution_count": null,
      "outputs": [
        {
          "output_type": "stream",
          "name": "stdout",
          "text": [
            "Data ke-x\n",
            "Data ke-y\n",
            "Data ke-z\n",
            "Data lengap! Selesai\n"
          ]
        }
      ]
    },
    {
      "cell_type": "code",
      "source": [
        "perulangan = 1\n",
        "while (perulangan <=4 ):\n",
        "  print(f\"Data ke-{perulangan}\")\n",
        "  perulangan += 1\n",
        "print(\"Data lengkap! Selesai\")"
      ],
      "metadata": {
        "colab": {
          "base_uri": "https://localhost:8080/"
        },
        "id": "EpXmzVCwY1PI",
        "outputId": "14ec1f57-8641-4232-90e2-08c21fe0297e"
      },
      "execution_count": null,
      "outputs": [
        {
          "output_type": "stream",
          "name": "stdout",
          "text": [
            "Data ke-1\n",
            "Data ke-2\n",
            "Data ke-3\n",
            "Data ke-4\n",
            "Data lengkap! Selesai\n"
          ]
        }
      ]
    },
    {
      "cell_type": "code",
      "source": [
        "def cetakString(nim, nama):\n",
        "  print(\"NIM : \", nim)\n",
        "  print(\"Nama : \", nama)\n",
        "\n",
        "def hitung(a,b):\n",
        "  print(\"hasil kali\",a,\"x\",b,\" : \",(a*b))\n",
        "\n",
        "nim = input(\"NIM anda: \")\n",
        "nama = input(\"Nama anda: \")\n",
        "cetakString(nim, nama)\n",
        "hitung(8,9)"
      ],
      "metadata": {
        "colab": {
          "base_uri": "https://localhost:8080/"
        },
        "id": "hF7bR7UvZVpm",
        "outputId": "d6a61fbb-2362-4b8e-c8b9-d685c59b65f2"
      },
      "execution_count": null,
      "outputs": [
        {
          "output_type": "stream",
          "name": "stdout",
          "text": [
            "NIM anda: g231220083\n",
            "Nama anda: victor\n",
            "NIM :  g231220083\n",
            "Nama :  victor\n",
            "hasil kali 8 x 9  :  72\n"
          ]
        }
      ]
    },
    {
      "cell_type": "code",
      "source": [
        "peta = {'A':set(['B']),\n",
        "        'B':set(['C','A']),\n",
        "        'C':set(['H','B','I','D']),\n",
        "        'D':set(['C','E','H','F']),\n",
        "        'E':set(['D']),\n",
        "        'F':set(['D','G']),\n",
        "        'G':set(['F','H']),\n",
        "        'H':set(['L','C','G','D']),\n",
        "        'I':set(['C','J','K']),\n",
        "        'J':set(['I']),\n",
        "        'K':set(['L','I']),\n",
        "        'L':set(['K','H'])}"
      ],
      "metadata": {
        "id": "9z8b0OyNbM1L"
      },
      "execution_count": null,
      "outputs": []
    },
    {
      "cell_type": "code",
      "source": [
        "def bfs_lintasan_terpendek(graph, mulai, goal):\n",
        "  # cek semua node\n",
        "  explored = []\n",
        "  # cek semua jalur\n",
        "  queue = [[mulai]]\n",
        "\n",
        "  # kembali ke jalur awal apabila awal adalah tujuan\n",
        "  if mulai == goal:\n",
        "    return \"Awal adalah Tujuan\"\n",
        "\n",
        "  # perulangan sampai dengan semua jalur telah diperiksa\n",
        "  while queue:\n",
        "    # masukkan antrian paling depan ke variabel jalur\n",
        "    jalur = queue.pop(0)\n",
        "    # ambil node terakhir dari jalur\n",
        "    node = jalur[-1]\n",
        "    # jika node tidak sama dengan tujuan, maka cek apakah node tidak ada di explored\n",
        "    if node not in explored:\n",
        "      neighbours = graph[node] # Memasukkan semua isi graph node kedalam neighbours\n",
        "      # buat jalur baru dan masukan ke dalam queue\n",
        "\n",
        "      for neighbour in neighbours:\n",
        "        jalur_baru = list(jalur)\n",
        "        jalur_baru.append(neighbour)\n",
        "        queue.append(jalur_baru)\n",
        "\n",
        "        if neighbour == goal:\n",
        "          return jalur_baru\n",
        "\n",
        "      explored.append(node)\n",
        "  return \"Mohon maaf node yang dipilih tidak ada\"\n",
        "\n",
        "awal = input(\"Masukkan awal: \")\n",
        "tujuan = input(\"Masukkan akhir: \")\n",
        "if type(awal) is str:\n",
        "  awal = awal.capitalize()\n",
        "if type(tujuan) is str:\n",
        "  tujuan = tujuan.capitalize()\n",
        "\n",
        "print(bfs_lintasan_terpendek(peta, awal, tujuan))"
      ],
      "metadata": {
        "colab": {
          "base_uri": "https://localhost:8080/"
        },
        "id": "2Ul-CYLCbrFp",
        "outputId": "70c5992d-c1c7-427d-fe27-11a4010c5f32"
      },
      "execution_count": null,
      "outputs": [
        {
          "output_type": "stream",
          "name": "stdout",
          "text": [
            "Masukkan awal: a\n",
            "Masukkan akhir: e\n",
            "['A', 'B', 'C', 'D', 'E']\n"
          ]
        }
      ]
    },
    {
      "cell_type": "code",
      "source": [
        "# Tugas coding python\n",
        "peta = {'A':set(['B','H']),\n",
        "        'B':set(['A','C','H']),\n",
        "        'C':set(['B','D','E']),\n",
        "        'D':set(['C','E','F','G','H']),\n",
        "        'E':set(['D','C']),\n",
        "        'F':set(['D','G']),\n",
        "        'G':set(['D','F','H']),\n",
        "        'H':set(['A','B','D','G']),}\n",
        "\n",
        "def bfs_lintasan_terpendek(graph, mulai, goal):\n",
        "  # cek semua node\n",
        "  explored = []\n",
        "  # cek semua jalur\n",
        "  queue = [[mulai]]\n",
        "\n",
        "  # kembali ke jalur awal apabila awal adalah tujuan\n",
        "  if mulai == goal:\n",
        "    return \"Awal adalah Tujuan\"\n",
        "\n",
        "  # perulangan sampai dengan semua jalur telah diperiksa\n",
        "  while queue:\n",
        "    # masukkan antrian paling depan ke variabel jalur\n",
        "    jalur = queue.pop(0)\n",
        "    # ambil node terakhir dari jalur\n",
        "    node = jalur[-1]\n",
        "    # jika node tidak sama dengan tujuan, maka cek apakah node tidak ada di explored\n",
        "    if node not in explored:\n",
        "      neighbours = graph[node] # Memasukkan semua isi graph node kedalam neighbours\n",
        "      # buat jalur baru dan masukan ke dalam queue\n",
        "\n",
        "      for neighbour in neighbours:\n",
        "        jalur_baru = list(jalur)\n",
        "        jalur_baru.append(neighbour)\n",
        "        queue.append(jalur_baru)\n",
        "\n",
        "        if neighbour == goal:\n",
        "          return jalur_baru\n",
        "\n",
        "      explored.append(node)\n",
        "  return \"Mohon maaf node yang dipilih tidak ada\"\n",
        "\n",
        "awal = input(\"Masukkan awal: \")\n",
        "tujuan = input(\"Masukkan akhir: \")\n",
        "if type(awal) is str:\n",
        "  awal = awal.capitalize()\n",
        "if type(tujuan) is str:\n",
        "  tujuan = tujuan.capitalize()\n",
        "print(bfs_lintasan_terpendek(peta, awal, tujuan))"
      ],
      "metadata": {
        "colab": {
          "base_uri": "https://localhost:8080/"
        },
        "id": "1rslpknZTwtq",
        "outputId": "79489630-6305-4edd-a1c4-74ec1e64b01a"
      },
      "execution_count": null,
      "outputs": [
        {
          "output_type": "stream",
          "name": "stdout",
          "text": [
            "Masukkan awal: a\n",
            "Masukkan akhir: f\n",
            "['A', 'H', 'G', 'F']\n"
          ]
        }
      ]
    }
  ]
}