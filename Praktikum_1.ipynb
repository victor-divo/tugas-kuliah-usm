{
  "nbformat": 4,
  "nbformat_minor": 0,
  "metadata": {
    "colab": {
      "provenance": []
    },
    "kernelspec": {
      "name": "python3",
      "display_name": "Python 3"
    },
    "language_info": {
      "name": "python"
    }
  },
  "cells": [
    {
      "cell_type": "code",
      "execution_count": 2,
      "metadata": {
        "colab": {
          "base_uri": "https://localhost:8080/"
        },
        "id": "3uydzqRxWYeZ",
        "outputId": "e1d6bd89-9605-4504-a812-d3506fd04c1f"
      },
      "outputs": [
        {
          "output_type": "stream",
          "name": "stdout",
          "text": [
            "Isi my_friends indeks ke-3 adalah: Alfa\n",
            "Semua teman: ada 5 orang\n",
            "Adit\n",
            "Hakim\n",
            "Taufik\n",
            "Alfa\n",
            "Nanda\n"
          ]
        }
      ],
      "source": [
        "# List untuk menampung nama-nama teman\n",
        "my_friends = [\"Adit\", \"Hakim\", \"Taufik\", \"Alfa\", \"Nanda\"]\n",
        "\n",
        "# Tampilkan isi list my_friends dengan nomor indeks 3\n",
        "print(\"Isi my_friends indeks ke-3 adalah: {}\".format(my_friends[3]))\n",
        "\n",
        "# Tampilkan semua daftar teman\n",
        "print(\"Semua teman: ada {} orang\".format(len(my_friends)))\n",
        "for friend in my_friends: print(friend)"
      ]
    }
  ]
}