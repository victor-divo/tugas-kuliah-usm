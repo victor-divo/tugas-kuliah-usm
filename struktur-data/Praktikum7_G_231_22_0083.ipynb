{
  "nbformat": 4,
  "nbformat_minor": 0,
  "metadata": {
    "colab": {
      "provenance": [],
      "authorship_tag": "ABX9TyOJHFNYFuvSAsgMfT4Pjz4/",
      "include_colab_link": true
    },
    "kernelspec": {
      "name": "python3",
      "display_name": "Python 3"
    },
    "language_info": {
      "name": "python"
    }
  },
  "cells": [
    {
      "cell_type": "markdown",
      "metadata": {
        "id": "view-in-github",
        "colab_type": "text"
      },
      "source": [
        "<a href=\"https://colab.research.google.com/github/victor-divo/tugas-kuliah-usm/blob/main/struktur-data/Praktikum7_G_231_22_0083.ipynb\" target=\"_parent\"><img src=\"https://colab.research.google.com/assets/colab-badge.svg\" alt=\"Open In Colab\"/></a>"
      ]
    },
    {
      "cell_type": "markdown",
      "source": [
        "Inorder"
      ],
      "metadata": {
        "id": "XOdfVVjbzBE4"
      }
    },
    {
      "cell_type": "code",
      "execution_count": 6,
      "metadata": {
        "id": "b5k6FgdvIpFg",
        "colab": {
          "base_uri": "https://localhost:8080/"
        },
        "outputId": "2f2d6de0-9878-47a1-888d-4d69eefa3005"
      },
      "outputs": [
        {
          "output_type": "stream",
          "name": "stdout",
          "text": [
            "\n",
            "Inorder dari sebuah binary tree adalah\n",
            "4 2 5 1 3 "
          ]
        }
      ],
      "source": [
        "# Kode program tree traversals\n",
        "# Inorder\n",
        "class Node:\n",
        "  def __init__(self, nilai):\n",
        "    self.kiri = None\n",
        "    self.kanan = None\n",
        "    self.nilai = nilai\n",
        "\n",
        "# Fungsi untuk melakukan inorder tree traversal\n",
        "def tampilkanInorder(root):\n",
        "  if root:\n",
        "\n",
        "    # Urutkan pertama melalui anak (child) sebelah kiri\n",
        "    tampilkanInorder(root.kiri)\n",
        "\n",
        "    # print data dari node\n",
        "    print(root.nilai, end=\" \")\n",
        "\n",
        "    # Lakukan rekursi ke anak (child) sebelah kanan\n",
        "    tampilkanInorder(root.kanan)\n",
        "\n",
        "# Jalankan kode\n",
        "if __name__ == \"__main__\":\n",
        "  root = Node(1)\n",
        "  root.kiri = Node(2)\n",
        "  root.kanan = Node(3)\n",
        "  root.kiri.kiri = Node(4)\n",
        "  root.kiri.kanan = Node(5)\n",
        "\n",
        "  # Pemanggilan fungsi\n",
        "  print(\"\\nInorder dari sebuah binary tree adalah\")\n",
        "  tampilkanInorder(root)"
      ]
    },
    {
      "cell_type": "markdown",
      "source": [
        "Preorder"
      ],
      "metadata": {
        "id": "dxig_vN1zFQa"
      }
    },
    {
      "cell_type": "code",
      "source": [
        "# Preorder Binary Tree\n",
        "\n",
        "class Node:\n",
        "  def __init__(self, nilai):\n",
        "    self.kiri = None\n",
        "    self.kanan = None\n",
        "    self.nilai = nilai\n",
        "\n",
        "def tampilkanPreorder(root):\n",
        "  if root:\n",
        "\n",
        "    # Print data dari node\n",
        "    print(root.nilai, end=\" \")\n",
        "\n",
        "    # Melakukan rekursif ke child sebelah kiri\n",
        "    tampilkanPreorder(root.kiri)\n",
        "\n",
        "    # Melakukan rekursif ke child sebelah kanan\n",
        "    tampilkanPreorder(root.kanan)\n",
        "\n",
        "# Jalankan kode\n",
        "if __name__ == \"__main__\":\n",
        "  root = Node(1)\n",
        "  root.kiri = Node(2)\n",
        "  root.kanan = Node(3)\n",
        "  root.kiri.kiri = Node(4)\n",
        "  root.kiri.kanan = Node(5)\n",
        "\n",
        "  # Panggil fungsi\n",
        "  print(\"Preorder dari sebuah binary tree adalah\")\n",
        "  tampilkanPreorder(root)"
      ],
      "metadata": {
        "id": "ftck9n39zG-T",
        "colab": {
          "base_uri": "https://localhost:8080/"
        },
        "outputId": "e03335a3-8cd8-485b-ae93-446d293b4a7d"
      },
      "execution_count": 10,
      "outputs": [
        {
          "output_type": "stream",
          "name": "stdout",
          "text": [
            "Preorder dari sebuah binary tree adalah\n",
            "1 2 4 5 3 "
          ]
        }
      ]
    },
    {
      "cell_type": "markdown",
      "source": [
        "Postorder"
      ],
      "metadata": {
        "id": "cHuPk2_iENgh"
      }
    },
    {
      "cell_type": "code",
      "source": [
        "class Node:\n",
        "  def __init__(self, nilai):\n",
        "    self.kiri = None\n",
        "    self.kanan = None\n",
        "    self.nilai = nilai\n",
        "\n",
        "def tampilkanPostorder(root):\n",
        "  if root:\n",
        "\n",
        "    # Melakukan rekursif ke child sebelah kiri\n",
        "    tampilkanPostorder(root.kiri)\n",
        "\n",
        "    # Melakukan rekursif ke child sebelah kanan\n",
        "    tampilkanPostorder(root.kanan)\n",
        "\n",
        "    # Print data dari node\n",
        "    print(root.nilai, end=\" \")\n",
        "\n",
        "# Jalankan kode\n",
        "if __name__ == \"__main__\":\n",
        "  root = Node(1)\n",
        "  root.kiri = Node(2)\n",
        "  root.kanan = Node(3)\n",
        "  root.kiri.kiri = Node(4)\n",
        "  root.kiri.kanan = Node(5)\n",
        "\n",
        "  # Panggil fungsi\n",
        "  print(\"Postorder dari sebuah binary tree adalah\")\n",
        "  tampilkanPostorder(root)"
      ],
      "metadata": {
        "colab": {
          "base_uri": "https://localhost:8080/"
        },
        "id": "OJZL3xHLEPR3",
        "outputId": "9f5f06d2-11c6-409a-f9a4-758dbdd91a03"
      },
      "execution_count": 11,
      "outputs": [
        {
          "output_type": "stream",
          "name": "stdout",
          "text": [
            "Postorder dari sebuah binary tree adalah\n",
            "4 5 2 3 1 "
          ]
        }
      ]
    }
  ]
}