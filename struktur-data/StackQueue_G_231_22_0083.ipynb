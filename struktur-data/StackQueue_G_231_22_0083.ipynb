{
  "nbformat": 4,
  "nbformat_minor": 0,
  "metadata": {
    "colab": {
      "provenance": [],
      "authorship_tag": "ABX9TyNaeMw/Jqs3P75pv1yIassY",
      "include_colab_link": true
    },
    "kernelspec": {
      "name": "python3",
      "display_name": "Python 3"
    },
    "language_info": {
      "name": "python"
    }
  },
  "cells": [
    {
      "cell_type": "markdown",
      "metadata": {
        "id": "view-in-github",
        "colab_type": "text"
      },
      "source": [
        "<a href=\"https://colab.research.google.com/github/victor-divo/tugas-kuliah-usm/blob/main/struktur-data/StackQueue_G_231_22_0083.ipynb\" target=\"_parent\"><img src=\"https://colab.research.google.com/assets/colab-badge.svg\" alt=\"Open In Colab\"/></a>"
      ]
    },
    {
      "cell_type": "code",
      "source": [
        "# import deque dari package collection\n",
        "from collections import deque\n",
        "\n",
        "# Membuat antrian dengan fungsi deque\n",
        "antrian = deque([\"Victor\", \"Afief\", \"Riski\", \"Cing\"])\n",
        "\n",
        "print(antrian) # Menampilkan antrian saat ini\n",
        "antrian.append(\"Edith\") # Menambah Edith ke dalam antrian\n",
        "print(antrian)\n",
        "antrian.append(\"Bruno\") # Menambah Bruno ke dalam antrian\n",
        "print(antrian)\n",
        "print(antrian.popleft()) # Mengeluarkan antrian paling kiri (Victor)\n",
        "print(antrian.popleft()) # Mengeluarkan antrian paling kiri (Afief)\n",
        "print(antrian)"
      ],
      "metadata": {
        "colab": {
          "base_uri": "https://localhost:8080/"
        },
        "id": "6W1fTzeHJvMg",
        "outputId": "75374c73-a0cb-4fd9-8fdd-555e7cf1fceb"
      },
      "execution_count": 10,
      "outputs": [
        {
          "output_type": "stream",
          "name": "stdout",
          "text": [
            "deque(['Victor', 'Afief', 'Riski', 'Cing'])\n",
            "deque(['Victor', 'Afief', 'Riski', 'Cing', 'Edith'])\n",
            "deque(['Victor', 'Afief', 'Riski', 'Cing', 'Edith', 'Bruno'])\n",
            "Victor\n",
            "Afief\n",
            "deque(['Riski', 'Cing', 'Edith', 'Bruno'])\n"
          ]
        }
      ]
    },
    {
      "cell_type": "code",
      "execution_count": 11,
      "metadata": {
        "colab": {
          "base_uri": "https://localhost:8080/"
        },
        "id": "B4M_eiDZcAoT",
        "outputId": "65cebab4-536b-4036-bff7-add10fd4a5a0"
      },
      "outputs": [
        {
          "output_type": "stream",
          "name": "stdout",
          "text": [
            "Change disk 1 from A to C\n",
            "Change disk 2 from A to B\n",
            "Change disk 1 from C to A\n",
            "Change disk 3 from A to C\n",
            "Change disk 1 from B to C\n",
            "Change disk 2 from B to A\n",
            "Change disk 1 from C to B\n"
          ]
        }
      ],
      "source": [
        "def hanoiTower(total, source, destination, helper):\n",
        "  if total == 0:\n",
        "    return\n",
        "  hanoiTower(total-1, source, helper, destination)\n",
        "  print(\"Change disk\", total, \"from\", source, \"to\", destination)\n",
        "  hanoiTower(total-1, helper, source, destination)\n",
        "\n",
        "total = 3\n",
        "hanoiTower(total, 'A', 'C', 'B')\n"
      ]
    },
    {
      "cell_type": "code",
      "source": [
        "def urutkanStack(listAngka):\n",
        "  stackSementara = []\n",
        "  while(len(listAngka) > 0):\n",
        "\n",
        "    # mengeluarkan elemen pertama\n",
        "    penampung = listAngka[-1]\n",
        "    listAngka.pop()\n",
        "\n",
        "    # melakukan perluangan ketika stack sementara tidak kosong dan stack paling atas lebih kecil dari penampung\n",
        "    while (len(stackSementara) > 0 and stackSementara[-1] < penampung):\n",
        "\n",
        "      # keluarkan dari stack sementara dan menambahkan ke list angka stack\n",
        "      listAngka.append(stackSementara[-1])\n",
        "      stackSementara.pop()\n",
        "\n",
        "    stackSementara.append(penampung)\n",
        "  return stackSementara\n",
        "\n",
        "def sortWithStacks(numbers, panjang):\n",
        "  # Mengisi list angka ke stack\n",
        "  listAngka = []\n",
        "  i = 0\n",
        "  while( i < n):\n",
        "    listAngka.append(numbers[i])\n",
        "    i = i+1\n",
        "\n",
        "  # mengurutkan stack sementara\n",
        "  stackSementara = urutkanStack(listAngka)\n",
        "  i = 0\n",
        "\n",
        "  # mengisi stack sementara di numbers\n",
        "  while (i < n):\n",
        "    numbers[i] = stackSementara[-1]\n",
        "    stackSementara.pop()\n",
        "    i = i + 1\n",
        "  return numbers\n",
        "\n",
        "# Jalankan code\n",
        "numbers = [19, 2, 39, 1, 33]\n",
        "n = len(numbers)\n",
        "\n",
        "numbers = sortWithStacks(numbers, n)\n",
        "i = 0\n",
        "\n",
        "while (i < n):\n",
        "  print(numbers[i], end=\" \")\n",
        "  i = i + 1\n"
      ],
      "metadata": {
        "colab": {
          "base_uri": "https://localhost:8080/"
        },
        "id": "LQcMg9fh7eYL",
        "outputId": "56200b80-b96d-4f1c-a68c-b2849c6aa343"
      },
      "execution_count": 13,
      "outputs": [
        {
          "output_type": "stream",
          "name": "stdout",
          "text": [
            "1 2 19 33 39 "
          ]
        }
      ]
    }
  ]
}