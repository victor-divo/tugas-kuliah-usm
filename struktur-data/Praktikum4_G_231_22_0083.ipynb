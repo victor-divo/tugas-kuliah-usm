{
  "nbformat": 4,
  "nbformat_minor": 0,
  "metadata": {
    "colab": {
      "provenance": [],
      "authorship_tag": "ABX9TyOe0xKXC0zOOxxtzdRLNFXD",
      "include_colab_link": true
    },
    "kernelspec": {
      "name": "python3",
      "display_name": "Python 3"
    },
    "language_info": {
      "name": "python"
    }
  },
  "cells": [
    {
      "cell_type": "markdown",
      "metadata": {
        "id": "view-in-github",
        "colab_type": "text"
      },
      "source": [
        "<a href=\"https://colab.research.google.com/github/victor-divo/tugas-kuliah-usm/blob/main/struktur-data/Praktikum4_G_231_22_0083.ipynb\" target=\"_parent\"><img src=\"https://colab.research.google.com/assets/colab-badge.svg\" alt=\"Open In Colab\"/></a>"
      ]
    },
    {
      "cell_type": "code",
      "execution_count": 1,
      "metadata": {
        "colab": {
          "base_uri": "https://localhost:8080/"
        },
        "id": "5XH6Q5Lblm1-",
        "outputId": "711f66ae-def6-4b1e-9b6f-b3925a95b702"
      },
      "outputs": [
        {
          "output_type": "stream",
          "name": "stdout",
          "text": [
            "\"The quick brown fox jumps over the little lazy dog\"\n",
            "\n",
            "is a pangram\n"
          ]
        }
      ],
      "source": [
        "# A Python Program to check if the given\n",
        "# string is a pangram or not\n",
        "\n",
        "def checkPangram(s):\n",
        "  List = []\n",
        "  # create list of 26 characters and set false each entry\n",
        "  for i in range(26):\n",
        "    List.append(False)\n",
        "    # converting the sentence to lowercase and iterating\n",
        "    # over the sentence\n",
        "\n",
        "  for c in s.lower():\n",
        "    if not c == \" \":\n",
        "      # make the corresponding entry True\n",
        "      List[ord(c) - ord('a')] = True\n",
        "\n",
        "  # check if any character is missing then return False\n",
        "  for ch in List:\n",
        "    if ch == False:\n",
        "      return False\n",
        "\n",
        "  return True\n",
        "\n",
        "# Driver Program to test above functions\n",
        "sentence = \"The quick brown fox jumps over the little lazy dog\"\n",
        "if (checkPangram(sentence)):\n",
        "  print('\"'+sentence+'\"')\n",
        "  print(\"\\nis a pangram\")\n",
        "else:\n",
        "  print('\"'+sentence+'\"')\n",
        "  print(\"\\nis not a pangram\")"
      ]
    },
    {
      "cell_type": "code",
      "source": [
        "# Program untuk mengecek apakah sebuah string adalah pangram\n",
        "\n",
        "# Membuat fungsi isPangram\n",
        "def isPangram(kalimat):\n",
        "  listAbjad = []\n",
        "  # membuat list abjad\n",
        "  for i in range(26):\n",
        "    listAbjad.append(False)\n",
        "\n",
        "\n",
        "  # mengubah karakter ke huruf kecil dan melakukan perulangan per karakternya\n",
        "  for karakter in kalimat.lower():\n",
        "    # abaikan karakter spasi\n",
        "    if not karakter == \" \":\n",
        "      # membuat karakter/huruf yang sekarang menjadi True karena ditemukan\n",
        "      listAbjad[ord(karakter) - ord('a')] = True\n",
        "\n",
        "  # list abjad yang memliki nilai false\n",
        "  listAbjadSalah = []\n",
        "  # mengisi list abjad salah\n",
        "  for indeks, abjad in enumerate(listAbjad):\n",
        "    if abjad == False:\n",
        "      listAbjadSalah.append(chr(indeks + ord('a')))\n",
        "\n",
        "  # mengembalikan nilai False dan listAbjadSalah jika listAbjadSalah ada isinya\n",
        "  if len(listAbjadSalah) > 0:\n",
        "    return False, listAbjadSalah\n",
        "\n",
        "  # mengembalikan nilai True jika dan listAbjadSalah listAbjadSalah kosong\n",
        "  return True, listAbjadSalah\n",
        "\n",
        "# melakukan test program\n",
        "kalimat = \"zebra warna coklat mendapati varian sapi yang baru sejak hadirx qris\"\n",
        "# perlu menggunakan 2 variable karena fungsi mengembalikan 2 nilai\n",
        "isPangram, listAbjadSalah = isPangram(kalimat)\n",
        "if (isPangram):\n",
        "  # jika pangram maka print ini\n",
        "  print('Kalimat \"'+kalimat+'\" adalah pangram')\n",
        "else:\n",
        "  # jika bukan pangram maka print ini, disertai list abjad yang kurang\n",
        "  print('Kalimat \"'+kalimat+'\" bukanlah pangram karena kekurangan huruf', ', '.join(listAbjadSalah))"
      ],
      "metadata": {
        "colab": {
          "base_uri": "https://localhost:8080/"
        },
        "id": "akgISeQimP-C",
        "outputId": "05ba107b-3b4e-4251-fd7a-35a9f8137739"
      },
      "execution_count": 18,
      "outputs": [
        {
          "output_type": "stream",
          "name": "stdout",
          "text": [
            "Kalimat \"zebra warna coklat mendapati varian sapi yang baru sejak hadirx qris\" bukanlah pangram karena kekurangan huruf f\n"
          ]
        }
      ]
    }
  ]
}