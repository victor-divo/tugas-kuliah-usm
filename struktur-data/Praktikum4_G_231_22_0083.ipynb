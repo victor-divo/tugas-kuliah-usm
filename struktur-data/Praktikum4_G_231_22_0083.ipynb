{
  "nbformat": 4,
  "nbformat_minor": 0,
  "metadata": {
    "colab": {
      "provenance": [],
      "authorship_tag": "ABX9TyOt4zVQEH6bV5s70sVdgwnq",
      "include_colab_link": true
    },
    "kernelspec": {
      "name": "python3",
      "display_name": "Python 3"
    },
    "language_info": {
      "name": "python"
    }
  },
  "cells": [
    {
      "cell_type": "markdown",
      "metadata": {
        "id": "view-in-github",
        "colab_type": "text"
      },
      "source": [
        "<a href=\"https://colab.research.google.com/github/victor-divo/tugas-kuliah-usm/blob/main/struktur-data/Praktikum4_G_231_22_0083.ipynb\" target=\"_parent\"><img src=\"https://colab.research.google.com/assets/colab-badge.svg\" alt=\"Open In Colab\"/></a>"
      ]
    },
    {
      "cell_type": "code",
      "execution_count": 1,
      "metadata": {
        "colab": {
          "base_uri": "https://localhost:8080/"
        },
        "id": "5XH6Q5Lblm1-",
        "outputId": "711f66ae-def6-4b1e-9b6f-b3925a95b702"
      },
      "outputs": [
        {
          "output_type": "stream",
          "name": "stdout",
          "text": [
            "\"The quick brown fox jumps over the little lazy dog\"\n",
            "\n",
            "is a pangram\n"
          ]
        }
      ],
      "source": [
        "# A Python Program to check if the given\n",
        "# string is a pangram or not\n",
        "\n",
        "def checkPangram(s):\n",
        "  List = []\n",
        "  # create list of 26 characters and set false each entry\n",
        "  for i in range(26):\n",
        "    List.append(False)\n",
        "    # converting the sentence to lowercase and iterating\n",
        "    # over the sentence\n",
        "\n",
        "  for c in s.lower():\n",
        "    if not c == \" \":\n",
        "      # make the corresponding entry True\n",
        "      List[ord(c) - ord('a')] = True\n",
        "\n",
        "  # check if any character is missing then return False\n",
        "  for ch in List:\n",
        "    if ch == False:\n",
        "      return False\n",
        "\n",
        "  return True\n",
        "\n",
        "# Driver Program to test above functions\n",
        "sentence = \"The quick brown fox jumps over the little lazy dog\"\n",
        "if (checkPangram(sentence)):\n",
        "  print('\"'+sentence+'\"')\n",
        "  print(\"\\nis a pangram\")\n",
        "else:\n",
        "  print('\"'+sentence+'\"')\n",
        "  print(\"\\nis not a pangram\")"
      ]
    },
    {
      "cell_type": "code",
      "source": [
        "# Program untuk mengecek apakah sebuah string adalah pangram\n",
        "\n",
        "def isPangram(kalimat):\n",
        "  listAbjad = []\n",
        "  # create list of 26 characters and set false each entry\n",
        "  for i in range(26):\n",
        "    listAbjad.append(False)\n",
        "    # converting the sentence to lowercase and iterating\n",
        "    # over the sentence\n",
        "\n",
        "  for karakter in kalimat.lower():\n",
        "    if not karakter == \" \":\n",
        "      # make the corresponding entry True\n",
        "      listAbjad[ord(karakter) - ord('a')] = True\n",
        "\n",
        "  listAbjadSalah = []\n",
        "  # check if any character is missing then return False\n",
        "  for indeks, abjad in enumerate(listAbjad):\n",
        "    if abjad == False:\n",
        "      listAbjadSalah.append(chr(indeks + ord('a')))\n",
        "\n",
        "  if len(listAbjadSalah) > 0:\n",
        "    return False, listAbjadSalah\n",
        "  return True, listAbjadSalah\n",
        "\n",
        "# Driver Program to test above functions\n",
        "kalimat = \"zebra warna coklat mendapati varian sapi yang baru sejak hadirx qris\"\n",
        "isPangram, listAbjadSalah = isPangram(kalimat)\n",
        "if (isPangram):\n",
        "  print('Kalimat \"'+kalimat+'\" adalah pangram')\n",
        "else:\n",
        "  print('Kalimat \"'+kalimat+'\" bukanlah pangram karena kekurangan huruf', ', '.join(listAbjadSalah))"
      ],
      "metadata": {
        "colab": {
          "base_uri": "https://localhost:8080/"
        },
        "id": "akgISeQimP-C",
        "outputId": "5600410f-0df0-417e-8eca-4318aae438fc"
      },
      "execution_count": 17,
      "outputs": [
        {
          "output_type": "stream",
          "name": "stdout",
          "text": [
            "Kalimat \"zebra warna coklat mendapati varian sapi yang baru sejak hadirx qris\" bukanlah pangram karena kekurangan huruf f\n"
          ]
        }
      ]
    }
  ]
}