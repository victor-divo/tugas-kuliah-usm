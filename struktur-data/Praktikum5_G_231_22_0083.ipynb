{
  "nbformat": 4,
  "nbformat_minor": 0,
  "metadata": {
    "colab": {
      "provenance": [],
      "authorship_tag": "ABX9TyNmCSyzP+filAQDX09txSnJ",
      "include_colab_link": true
    },
    "kernelspec": {
      "name": "python3",
      "display_name": "Python 3"
    },
    "language_info": {
      "name": "python"
    }
  },
  "cells": [
    {
      "cell_type": "markdown",
      "metadata": {
        "id": "view-in-github",
        "colab_type": "text"
      },
      "source": [
        "<a href=\"https://colab.research.google.com/github/victor-divo/tugas-kuliah-usm/blob/main/struktur-data/Praktikum5_G_231_22_0083.ipynb\" target=\"_parent\"><img src=\"https://colab.research.google.com/assets/colab-badge.svg\" alt=\"Open In Colab\"/></a>"
      ]
    },
    {
      "cell_type": "code",
      "execution_count": null,
      "metadata": {
        "colab": {
          "base_uri": "https://localhost:8080/"
        },
        "id": "2LKl-jR2nx4N",
        "outputId": "c8e34c36-38bc-473b-f9fe-d0e21c652836"
      },
      "outputs": [
        {
          "output_type": "stream",
          "name": "stdout",
          "text": [
            "Sorted array is:\n",
            " 1  3  3  5  9  19  28  39  47  127  238 "
          ]
        }
      ],
      "source": [
        "#Python program for implementation of Bubble Sort\n",
        "def bubbleSort(arr):\n",
        "  n = len(arr)\n",
        "  swapped = False\n",
        "\n",
        "  for i in range(n-1):\n",
        "    for j in range(0, n-i-1):\n",
        "      if arr[j] > arr[j + 1]:\n",
        "        swapped = True\n",
        "        arr[j], arr[j + 1] = arr[j + 1], arr[j]\n",
        "\n",
        "\n",
        "# Driver code to test above\n",
        "arr = [19, 28, 39, 47, 127, 238, 1, 3, 5, 3, 9]\n",
        "bubbleSort(arr)\n",
        "print(\"Sorted array is:\")\n",
        "for i in range(len(arr)):\n",
        "  print(\"% d\" % arr[i], end=\" \")"
      ]
    },
    {
      "cell_type": "code",
      "source": [
        "# Implementasi kode program Bubble Sort\n",
        "def sortWithBubble(numberList): # Mendefinisikan fungsi bubble sort\n",
        "  panjangList = len(numberList) # Menampung panjang list\n",
        "  tukar = False # Menginisialisasi nilai tukar di awal menjadi false\n",
        "\n",
        "  for i in range(panjangList-1): # Loop dengan range n-1 agar index yang diakses tidak berlebih\n",
        "    for j in range(0, panjangList-i-1): # Loop dengan range n-i-1 agar index yang diakses lebih kecil\n",
        "      if numberList[j] > numberList[j + 1]: # Jika nilai disebelah kiri lebih besar maka tukar nilainya\n",
        "        tukar = True # Menandai variabel tukar menjadi true\n",
        "        numberList[j], numberList[j + 1] = numberList[j + 1], numberList[j] # Menukar nilai\n",
        "\n",
        "\n",
        "# Mencoba mengurutkan array\n",
        "numberList = [19, 23, 64, 4, 2]\n",
        "# Melakukan sorting\n",
        "sortWithBubble(numberList)\n",
        "\n",
        "# Menampilkan hasil sorting\n",
        "print(\"Sorted array is:\")\n",
        "for i in range(len(numberList)):\n",
        "  print(\"% d\" % numberList[i], end=\" \")"
      ],
      "metadata": {
        "colab": {
          "base_uri": "https://localhost:8080/"
        },
        "id": "8oMfTOupunGs",
        "outputId": "ba5ccafc-b43a-4200-cb35-dab0136116be"
      },
      "execution_count": 2,
      "outputs": [
        {
          "output_type": "stream",
          "name": "stdout",
          "text": [
            "Sorted array is:\n",
            " 2  4  19  23  64 "
          ]
        }
      ]
    },
    {
      "cell_type": "code",
      "source": [
        "# Python program for implementation of \\\n",
        "# Selection Sort\n",
        "import sys\n",
        "A = [64, 25, 12, 22, 11, 1, 2, 6, 345, 90]\n",
        "for i in range(len(A)):\n",
        "  min_idx = i\n",
        "  for j in range(i+1, len(A)):\n",
        "    if A[min_idx] > A[j]:\n",
        "      min_idx = j\n",
        "\n",
        "  A[i], A[min_idx] = A[min_idx], A[i]\n",
        "\n",
        "print (\"Sorted array\")\n",
        "for i in range(len(A)):\n",
        "  print(\"%d\" %A[i],end=\" \")"
      ],
      "metadata": {
        "colab": {
          "base_uri": "https://localhost:8080/"
        },
        "id": "rrDcsilCpbYM",
        "outputId": "7b2dddf9-7051-4aff-e427-c322de2daf74"
      },
      "execution_count": null,
      "outputs": [
        {
          "output_type": "stream",
          "name": "stdout",
          "text": [
            "Sorted array\n",
            "1 2 6 11 12 22 25 64 90 345 "
          ]
        }
      ]
    },
    {
      "cell_type": "code",
      "source": [
        "# Kode program selection sort\n",
        "\n",
        "numbers = [29, 38, 47, 56, 94, 22, 4] # buat list angka\n",
        "for idx in range(len(numbers)): # melakukan perulangan tiap angka\n",
        "  idx_minimal = idx # set index minimal\n",
        "  for j in range(idx+1, len(numbers)): # loop dengan index sebelah kanan\n",
        "    if numbers[idx_minimal] > numbers[j]: # jika angka dengan index minimal lebih besar maka tukar dengan index sebelah kanan\n",
        "      idx_minimal = j # ubah index minimal dengan index sebelah kanan tadi\n",
        "\n",
        "  numbers[idx], numbers[idx_minimal] = numbers[idx_minimal], numbers[idx] # penukaran value\n",
        "\n",
        "# Menampilkan hasil angka yang sudah diurutkan\n",
        "print (\"List angka yang sudah diurutkan\")\n",
        "for idx in range(len(numbers)):\n",
        "  print(\"%d\" %numbers[idx],end=\" \")"
      ],
      "metadata": {
        "colab": {
          "base_uri": "https://localhost:8080/"
        },
        "id": "lV6LWO_TsAV0",
        "outputId": "00830a6b-912c-4143-8151-5c027d4ea135"
      },
      "execution_count": 5,
      "outputs": [
        {
          "output_type": "stream",
          "name": "stdout",
          "text": [
            "List angka yang sudah diurutkan\n",
            "4 22 29 38 47 56 94 "
          ]
        }
      ]
    },
    {
      "cell_type": "code",
      "source": [
        "# Python program for implementation of\n",
        "# Insertion Sort\n",
        "\n",
        "# Function to do insertion sort\n",
        "def insertionSort(arr):\n",
        "  for i in range(1, len(arr)):\n",
        "    key = arr[i]\n",
        "    j = i-1\n",
        "    while j >= 0 and key < arr[j] :\n",
        "      arr[j + 1] = arr[j]\n",
        "      j -= 1\n",
        "    arr[j + 1] = key\n",
        "\n",
        "# Driver code to test above\n",
        "arr = [12, 11, 13, 5, 6, 23, 29, 49, 92, 38, 2, 4, 2, 9]\n",
        "insertionSort(arr)\n",
        "for i in range(len(arr)):\n",
        "  print (\"% d\" % arr[i],end=\" \")"
      ],
      "metadata": {
        "colab": {
          "base_uri": "https://localhost:8080/"
        },
        "id": "OEb8DiUfqMte",
        "outputId": "b9fcceb0-1929-42ed-ac50-b305a3af9d5a"
      },
      "execution_count": null,
      "outputs": [
        {
          "output_type": "stream",
          "name": "stdout",
          "text": [
            " 2  2  4  5  6  9  11  12  13  23  29  38  49  92 "
          ]
        }
      ]
    },
    {
      "cell_type": "code",
      "source": [
        "# Kode program insertion sort\n",
        "\n",
        "def sortWithInsertion(numbers): # Membuat fungsi sortWithInsertion\n",
        "  for idx in range(1, len(numbers)): # Buat perulangan untuk setiap elemen list\n",
        "    key = numbers[idx] # Mengambil nilai angka dengan index idx\n",
        "    j = idx-1 # Mengambil index yang kurang dari idx\n",
        "\n",
        "    # melakukan proses pengecekan dan pertukaran\n",
        "    while j >= 0 and key < numbers[j] : # buat perulangan dan berhenti ketika nilai saat ini kurang dari nilai lain\n",
        "      numbers[j + 1] = numbers[j]\n",
        "      j -= 1\n",
        "    numbers[j + 1] = key\n",
        "\n",
        "# jalankan fungsi diatas\n",
        "numbers = [92, 38, 4832, 393, 4, 2, 4] # Membuat list angka\n",
        "# Lakukan sorting\n",
        "sortWithInsertion(numbers)\n",
        "# Tampilkan hasil sorting\n",
        "for i in range(len(numbers)):\n",
        "  print (\"% d\" % numbers[i],end=\" \")"
      ],
      "metadata": {
        "colab": {
          "base_uri": "https://localhost:8080/"
        },
        "id": "QhT0C_nstUBk",
        "outputId": "e6c7f5a5-e488-49aa-df9e-c3a3ac892b32"
      },
      "execution_count": 6,
      "outputs": [
        {
          "output_type": "stream",
          "name": "stdout",
          "text": [
            " 2  4  4  38  92  393  4832 "
          ]
        }
      ]
    }
  ]
}