{
  "nbformat": 4,
  "nbformat_minor": 0,
  "metadata": {
    "colab": {
      "provenance": []
    },
    "kernelspec": {
      "name": "python3",
      "display_name": "Python 3"
    },
    "language_info": {
      "name": "python"
    }
  },
  "cells": [
    {
      "cell_type": "code",
      "source": [
        "# Selection Sort\n",
        "def sortUsingSelection(numberList):\n",
        "  for idx in range(0,len(numberList)-1):\n",
        "    currIdx=idx\n",
        "    for target in range(idx+1,len(numberList)):\n",
        "      if numberList[target] < numberList[currIdx]:\n",
        "        currIdx = target\n",
        "    temporary = numberList[idx]\n",
        "    numberList[idx] = numberList[currIdx]\n",
        "    numberList[currIdx] = temporary\n",
        "    print(numberList)\n",
        "\n",
        "numbers = [5,1,4,2,8,10,3]\n",
        "sortUsingSelection(numbers)\n",
        "print(numbers)"
      ],
      "metadata": {
        "colab": {
          "base_uri": "https://localhost:8080/"
        },
        "id": "qJTKAHQlZIQr",
        "outputId": "1ebd79d2-bcee-4e93-83a0-19e845fde28f"
      },
      "execution_count": 5,
      "outputs": [
        {
          "output_type": "stream",
          "name": "stdout",
          "text": [
            "[1, 5, 4, 2, 8, 10, 3]\n",
            "[1, 2, 4, 5, 8, 10, 3]\n",
            "[1, 2, 3, 5, 8, 10, 4]\n",
            "[1, 2, 3, 4, 8, 10, 5]\n",
            "[1, 2, 3, 4, 5, 10, 8]\n",
            "[1, 2, 3, 4, 5, 8, 10]\n",
            "[1, 2, 3, 4, 5, 8, 10]\n"
          ]
        }
      ]
    },
    {
      "cell_type": "code",
      "execution_count": 2,
      "metadata": {
        "id": "vYji99iMYHsE",
        "colab": {
          "base_uri": "https://localhost:8080/"
        },
        "outputId": "d3eeea0d-9c67-43c6-d795-3f12540eb428"
      },
      "outputs": [
        {
          "output_type": "stream",
          "name": "stdout",
          "text": [
            "monthTuple[0]:  Januari\n",
            "monthTuple[2:4]:  ('Maret', 'April')\n"
          ]
        }
      ],
      "source": [
        "# Tuple\n",
        "monthTuple = ('Januari', 'Februari', 'Maret', 'April', 'Mei', 'Agustus')\n",
        "\n",
        "# aksses nilai\n",
        "print(\"monthTuple[0]: \", monthTuple[0])\n",
        "print(\"monthTuple[2:4]: \", monthTuple[2:4])"
      ]
    },
    {
      "cell_type": "code",
      "source": [
        "# update nilai Tuple\n",
        "otherTuple = ('Oktober', 'November', 'Desember')\n",
        "newMonthTuple = monthTuple + otherTuple\n",
        "print(newMonthTuple)"
      ],
      "metadata": {
        "colab": {
          "base_uri": "https://localhost:8080/"
        },
        "id": "88DO_Le1Qs8p",
        "outputId": "a16ab937-ba38-42d3-f5fa-3304d11b1e62"
      },
      "execution_count": 3,
      "outputs": [
        {
          "output_type": "stream",
          "name": "stdout",
          "text": [
            "('Januari', 'Februari', 'Maret', 'April', 'Mei', 'Agustus', 'Oktober', 'November', 'Desember')\n"
          ]
        }
      ]
    },
    {
      "cell_type": "code",
      "source": [
        "# hapus nilai Tuple\n",
        "tup = ('keyboard', 'mouse', 1, 3)\n",
        "print(tup)\n",
        "\n",
        "del tup\n",
        "\n",
        "tup = ('speaker', 'tws', 100, 300)\n",
        "print('setelah menghapus tuple :', tup)"
      ],
      "metadata": {
        "colab": {
          "base_uri": "https://localhost:8080/"
        },
        "id": "JVyTRAwlQubN",
        "outputId": "ace612a6-a67a-4167-fd7f-85bcac95f43c"
      },
      "execution_count": 6,
      "outputs": [
        {
          "output_type": "stream",
          "name": "stdout",
          "text": [
            "('keyboard', 'mouse', 1, 3)\n",
            "setelah menghapus tuple : ('speaker', 'tws', 100, 300)\n"
          ]
        }
      ]
    },
    {
      "cell_type": "code",
      "source": [
        "# Dictionary\n",
        "mahasiswa = {'nama': 'Victor', 'umur': 21, 'nim': 'G.231.22.0083'}\n",
        "print(\"mahasiswa['nama']: \", mahasiswa['nama'])\n",
        "print(\"mahasiswa['nim']: \", mahasiswa['nim'])"
      ],
      "metadata": {
        "colab": {
          "base_uri": "https://localhost:8080/"
        },
        "id": "i-iPH4FhRNhv",
        "outputId": "3eea52dd-1e17-4f33-c3fa-84e029dca9fe"
      },
      "execution_count": 7,
      "outputs": [
        {
          "output_type": "stream",
          "name": "stdout",
          "text": [
            "mahasiswa['nama']:  Victor\n",
            "mahasiswa['nim']:  G.231.22.0083\n"
          ]
        }
      ]
    },
    {
      "cell_type": "code",
      "source": [
        "# Update Dictionary\n",
        "mahasiswa = {'nama': 'Victor', 'umur': 21, 'nim': 'G.231.22.0083'}\n",
        "mahasiswa['umur'] = 20\n",
        "mahasiswa['jurusan'] = 'Teknik Informatika'\n",
        "\n",
        "print(\"mahasiswa['umur']: \", mahasiswa['umur'])\n",
        "print(\"mahasiswa['jurusan']: \", mahasiswa['jurusan'])"
      ],
      "metadata": {
        "colab": {
          "base_uri": "https://localhost:8080/"
        },
        "id": "3p0gfOTnRkpf",
        "outputId": "6052c995-0cb4-454b-dd9a-8bb730080616"
      },
      "execution_count": 9,
      "outputs": [
        {
          "output_type": "stream",
          "name": "stdout",
          "text": [
            "mahasiswa['umur']:  20\n",
            "mahasiswa['jurusan']:  Teknik Informatika\n"
          ]
        }
      ]
    },
    {
      "cell_type": "code",
      "source": [
        "# Hapus Elemen Dictionary\n",
        "mahasiswa = {'nama': 'Victor', 'umur': 21, 'nim': 'G.231.22.0083'}\n",
        "\n",
        "del mahasiswa['nama']\n",
        "print(\"mahasiswa['nama'] dihapus sehingga mahasiswa menjadi: \", mahasiswa)\n",
        "mahasiswa.clear()\n",
        "print(\"mahasiswa di clear() sehingga mahasiswa menjadi: \", mahasiswa)\n",
        "del mahasiswa\n",
        "\n",
        "# akan error karena mahasiswa sudah dihapus\n",
        "# print(\"mahasiswa['umur']: \", mahasiswa['umur'])\n",
        "# print(\"mahasiswa['jurusan']: \", mahasiswa['jurusan'])"
      ],
      "metadata": {
        "colab": {
          "base_uri": "https://localhost:8080/"
        },
        "id": "searCnOmR01G",
        "outputId": "b8efe55f-5009-4dfc-9e1d-1f613211b0e6"
      },
      "execution_count": 11,
      "outputs": [
        {
          "output_type": "stream",
          "name": "stdout",
          "text": [
            "mahasiswa['nama'] dihapus sehingga mahasiswa menjadi:  {'umur': 21, 'nim': 'G.231.22.0083'}\n",
            "mahasiswa di clear() sehingga mahasiswa menjadi:  {}\n"
          ]
        }
      ]
    }
  ]
}