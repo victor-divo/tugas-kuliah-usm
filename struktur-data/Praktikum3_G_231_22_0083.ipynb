{
  "nbformat": 4,
  "nbformat_minor": 0,
  "metadata": {
    "colab": {
      "provenance": []
    },
    "kernelspec": {
      "name": "python3",
      "display_name": "Python 3"
    },
    "language_info": {
      "name": "python"
    }
  },
  "cells": [
    {
      "cell_type": "code",
      "execution_count": 1,
      "metadata": {
        "colab": {
          "base_uri": "https://localhost:8080/"
        },
        "id": "vl5nRBSDc5F3",
        "outputId": "846fa0fa-c7d9-4146-cdc5-3f1613095e34"
      },
      "outputs": [
        {
          "output_type": "stream",
          "name": "stdout",
          "text": [
            "geeksforgeeks\n"
          ]
        }
      ],
      "source": [
        "# contoh\n",
        "def convert(s):\n",
        "  new = \"\"\n",
        "  for x in s:\n",
        "    new += x\n",
        "  return new\n",
        "\n",
        "# driver code\n",
        "s = ['g', 'e', 'e', 'k', 's', 'f', 'o', 'r', 'g', 'e', 'e', 'k', 's']\n",
        "print(convert(s))"
      ]
    },
    {
      "cell_type": "code",
      "source": [
        "# tugas\n",
        "def mergeChar(chars):\n",
        "  text = \"\"\n",
        "  for char in chars:\n",
        "    text += char\n",
        "  return text\n",
        "\n",
        "# driver code\n",
        "chars = ['p', 'r', 'o', 'g', 'r', 'a', 'm', 'm', 'i', 'n', 'g']\n",
        "print(mergeChar(chars))"
      ],
      "metadata": {
        "colab": {
          "base_uri": "https://localhost:8080/"
        },
        "id": "Jyh1DFMbdq5N",
        "outputId": "fbc2215c-1e0c-4b8a-d2d3-0b7b98a87a3f"
      },
      "execution_count": 3,
      "outputs": [
        {
          "output_type": "stream",
          "name": "stdout",
          "text": [
            "programming\n"
          ]
        }
      ]
    }
  ]
}