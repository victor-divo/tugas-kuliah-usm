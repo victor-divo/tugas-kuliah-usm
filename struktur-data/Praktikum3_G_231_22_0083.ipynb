{
  "nbformat": 4,
  "nbformat_minor": 0,
  "metadata": {
    "colab": {
      "provenance": []
    },
    "kernelspec": {
      "name": "python3",
      "display_name": "Python 3"
    },
    "language_info": {
      "name": "python"
    }
  },
  "cells": [
    {
      "cell_type": "code",
      "execution_count": 1,
      "metadata": {
        "colab": {
          "base_uri": "https://localhost:8080/"
        },
        "id": "vl5nRBSDc5F3",
        "outputId": "846fa0fa-c7d9-4146-cdc5-3f1613095e34"
      },
      "outputs": [
        {
          "output_type": "stream",
          "name": "stdout",
          "text": [
            "geeksforgeeks\n"
          ]
        }
      ],
      "source": [
        "# contoh\n",
        "def convert(s):\n",
        "  new = \"\"\n",
        "  for x in s:\n",
        "    new += x\n",
        "  return new\n",
        "\n",
        "# driver code\n",
        "s = ['g', 'e', 'e', 'k', 's', 'f', 'o', 'r', 'g', 'e', 'e', 'k', 's']\n",
        "print(convert(s))"
      ]
    },
    {
      "cell_type": "code",
      "source": [
        "# tugas\n",
        "def convert(s):\n",
        "  new = \"\"\n",
        "  for x in s:\n",
        "    new += x\n",
        "  return new\n",
        "\n",
        "# driver code\n",
        "s = ['p', 'r', 'o', 'g', 'r', 'a', 'm', 'm', 'i', 'n', 'g']\n",
        "print(convert(s))"
      ],
      "metadata": {
        "colab": {
          "base_uri": "https://localhost:8080/"
        },
        "id": "Jyh1DFMbdq5N",
        "outputId": "b75e04f1-d80e-418f-ac11-7347812a49a6"
      },
      "execution_count": 2,
      "outputs": [
        {
          "output_type": "stream",
          "name": "stdout",
          "text": [
            "programming\n"
          ]
        }
      ]
    }
  ]
}